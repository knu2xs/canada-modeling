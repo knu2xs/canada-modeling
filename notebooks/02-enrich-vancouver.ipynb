{
 "cells": [
  {
   "cell_type": "code",
   "execution_count": 1,
   "metadata": {},
   "outputs": [],
   "source": [
    "import importlib\n",
    "import os\n",
    "from pathlib import Path\n",
    "import sys\n",
    "\n",
    "from arcgis.features import GeoAccessor, GeoSeriesAccessor\n",
    "from arcgis.gis import GIS\n",
    "from dotenv import load_dotenv, find_dotenv\n",
    "import pandas as pd\n",
    "\n",
    "from dm import Country, DemographicModeling\n",
    "from dm.utils import get_countries, add_enrich_aliases\n",
    "\n",
    "# import arcpy if available\n",
    "if importlib.util.find_spec(\"arcpy\") is not None:\n",
    "    import arcpy"
   ]
  },
  {
   "cell_type": "code",
   "execution_count": 2,
   "metadata": {},
   "outputs": [
    {
     "data": {
      "text/plain": [
       "True"
      ]
     },
     "execution_count": 2,
     "metadata": {},
     "output_type": "execute_result"
    }
   ],
   "source": [
    "# paths to common data locations - NOTE: to convert any path to a raw string, simply use str(path_instance)\n",
    "dir_prj = Path.cwd().parent\n",
    "\n",
    "dir_data = dir_prj/'data'\n",
    "dir_raw = dir_data/'raw'\n",
    "dir_int = dir_data/'interim'\n",
    "\n",
    "gdb_raw = dir_raw/'raw.gdb'\n",
    "gdb_int = dir_int/'interim.gdb'\n",
    "\n",
    "# import the project package from the project package path - only necessary if you are not using a unique environemnt for this project\n",
    "sys.path.append(str(dir_prj/'src'))\n",
    "import canada_modeling\n",
    "\n",
    "# load the \"autoreload\" extension so that code can change, & always reload modules so that as you change code in src, it gets loaded\n",
    "%load_ext autoreload\n",
    "%autoreload 2\n",
    "\n",
    "# load environment variables from .env\n",
    "load_dotenv(find_dotenv())"
   ]
  },
  {
   "cell_type": "code",
   "execution_count": 3,
   "metadata": {},
   "outputs": [
    {
     "data": {
      "text/html": [
       "<div>\n",
       "<style scoped>\n",
       "    .dataframe tbody tr th:only-of-type {\n",
       "        vertical-align: middle;\n",
       "    }\n",
       "\n",
       "    .dataframe tbody tr th {\n",
       "        vertical-align: top;\n",
       "    }\n",
       "\n",
       "    .dataframe thead th {\n",
       "        text-align: right;\n",
       "    }\n",
       "</style>\n",
       "<table border=\"1\" class=\"dataframe\">\n",
       "  <thead>\n",
       "    <tr style=\"text-align: right;\">\n",
       "      <th></th>\n",
       "      <th>geo_ref</th>\n",
       "      <th>country</th>\n",
       "      <th>year</th>\n",
       "    </tr>\n",
       "  </thead>\n",
       "  <tbody>\n",
       "    <tr>\n",
       "      <th>0</th>\n",
       "      <td>CAN_ESRI_2019</td>\n",
       "      <td>CAN</td>\n",
       "      <td>2019</td>\n",
       "    </tr>\n",
       "    <tr>\n",
       "      <th>1</th>\n",
       "      <td>USA_ESRI_2019</td>\n",
       "      <td>USA</td>\n",
       "      <td>2019</td>\n",
       "    </tr>\n",
       "    <tr>\n",
       "      <th>2</th>\n",
       "      <td>USA_ESRI_2020</td>\n",
       "      <td>USA</td>\n",
       "      <td>2020</td>\n",
       "    </tr>\n",
       "  </tbody>\n",
       "</table>\n",
       "</div>"
      ],
      "text/plain": [
       "         geo_ref country  year\n",
       "0  CAN_ESRI_2019     CAN  2019\n",
       "1  USA_ESRI_2019     USA  2019\n",
       "2  USA_ESRI_2020     USA  2020"
      ]
     },
     "execution_count": 3,
     "metadata": {},
     "output_type": "execute_result"
    }
   ],
   "source": [
    "get_countries('local')"
   ]
  },
  {
   "cell_type": "code",
   "execution_count": 4,
   "metadata": {},
   "outputs": [
    {
     "data": {
      "text/plain": [
       "<dm.Country - CAN (local)>"
      ]
     },
     "execution_count": 4,
     "metadata": {},
     "output_type": "execute_result"
    }
   ],
   "source": [
    "can = Country('CAN')\n",
    "\n",
    "can"
   ]
  },
  {
   "cell_type": "code",
   "execution_count": 5,
   "metadata": {},
   "outputs": [
    {
     "data": {
      "text/html": [
       "<div>\n",
       "<style scoped>\n",
       "    .dataframe tbody tr th:only-of-type {\n",
       "        vertical-align: middle;\n",
       "    }\n",
       "\n",
       "    .dataframe tbody tr th {\n",
       "        vertical-align: top;\n",
       "    }\n",
       "\n",
       "    .dataframe thead th {\n",
       "        text-align: right;\n",
       "    }\n",
       "</style>\n",
       "<table border=\"1\" class=\"dataframe\">\n",
       "  <thead>\n",
       "    <tr style=\"text-align: right;\">\n",
       "      <th></th>\n",
       "      <th>geo_name</th>\n",
       "      <th>geo_alias</th>\n",
       "      <th>col_id</th>\n",
       "      <th>col_name</th>\n",
       "      <th>feature_class_path</th>\n",
       "    </tr>\n",
       "  </thead>\n",
       "  <tbody>\n",
       "    <tr>\n",
       "      <th>0</th>\n",
       "      <td>disseminationareas</td>\n",
       "      <td>DisseminationAreas</td>\n",
       "      <td>ID</td>\n",
       "      <td>NAME</td>\n",
       "      <td>D:\\arcgis\\ba_data\\can_2019\\Data\\Demographic Da...</td>\n",
       "    </tr>\n",
       "    <tr>\n",
       "      <th>1</th>\n",
       "      <td>censustracts</td>\n",
       "      <td>CensusTracts</td>\n",
       "      <td>ID</td>\n",
       "      <td>NAME</td>\n",
       "      <td>D:\\arcgis\\ba_data\\can_2019\\Data\\Demographic Da...</td>\n",
       "    </tr>\n",
       "    <tr>\n",
       "      <th>2</th>\n",
       "      <td>fsas</td>\n",
       "      <td>FSAs</td>\n",
       "      <td>ID</td>\n",
       "      <td>NAME</td>\n",
       "      <td>D:\\arcgis\\ba_data\\can_2019\\Data\\Demographic Da...</td>\n",
       "    </tr>\n",
       "    <tr>\n",
       "      <th>3</th>\n",
       "      <td>censussubdivisions</td>\n",
       "      <td>CensusSubdivisions</td>\n",
       "      <td>ID</td>\n",
       "      <td>NAME</td>\n",
       "      <td>D:\\arcgis\\ba_data\\can_2019\\Data\\Demographic Da...</td>\n",
       "    </tr>\n",
       "    <tr>\n",
       "      <th>4</th>\n",
       "      <td>feds</td>\n",
       "      <td>FEDs</td>\n",
       "      <td>ID</td>\n",
       "      <td>NAME</td>\n",
       "      <td>D:\\arcgis\\ba_data\\can_2019\\Data\\Demographic Da...</td>\n",
       "    </tr>\n",
       "    <tr>\n",
       "      <th>5</th>\n",
       "      <td>cmacas</td>\n",
       "      <td>CMACAs</td>\n",
       "      <td>ID</td>\n",
       "      <td>NAME</td>\n",
       "      <td>D:\\arcgis\\ba_data\\can_2019\\Data\\Demographic Da...</td>\n",
       "    </tr>\n",
       "    <tr>\n",
       "      <th>6</th>\n",
       "      <td>censusdivisions</td>\n",
       "      <td>CensusDivisions</td>\n",
       "      <td>ID</td>\n",
       "      <td>NAME</td>\n",
       "      <td>D:\\arcgis\\ba_data\\can_2019\\Data\\Demographic Da...</td>\n",
       "    </tr>\n",
       "    <tr>\n",
       "      <th>7</th>\n",
       "      <td>provinceterritories</td>\n",
       "      <td>ProvinceTerritories</td>\n",
       "      <td>ID</td>\n",
       "      <td>NAME</td>\n",
       "      <td>D:\\arcgis\\ba_data\\can_2019\\Data\\Demographic Da...</td>\n",
       "    </tr>\n",
       "    <tr>\n",
       "      <th>8</th>\n",
       "      <td>country</td>\n",
       "      <td>Country</td>\n",
       "      <td>ID</td>\n",
       "      <td>NAME</td>\n",
       "      <td>D:\\arcgis\\ba_data\\can_2019\\Data\\Demographic Da...</td>\n",
       "    </tr>\n",
       "  </tbody>\n",
       "</table>\n",
       "</div>"
      ],
      "text/plain": [
       "              geo_name            geo_alias col_id col_name  \\\n",
       "0   disseminationareas   DisseminationAreas     ID     NAME   \n",
       "1         censustracts         CensusTracts     ID     NAME   \n",
       "2                 fsas                 FSAs     ID     NAME   \n",
       "3   censussubdivisions   CensusSubdivisions     ID     NAME   \n",
       "4                 feds                 FEDs     ID     NAME   \n",
       "5               cmacas               CMACAs     ID     NAME   \n",
       "6      censusdivisions      CensusDivisions     ID     NAME   \n",
       "7  provinceterritories  ProvinceTerritories     ID     NAME   \n",
       "8              country              Country     ID     NAME   \n",
       "\n",
       "                                  feature_class_path  \n",
       "0  D:\\arcgis\\ba_data\\can_2019\\Data\\Demographic Da...  \n",
       "1  D:\\arcgis\\ba_data\\can_2019\\Data\\Demographic Da...  \n",
       "2  D:\\arcgis\\ba_data\\can_2019\\Data\\Demographic Da...  \n",
       "3  D:\\arcgis\\ba_data\\can_2019\\Data\\Demographic Da...  \n",
       "4  D:\\arcgis\\ba_data\\can_2019\\Data\\Demographic Da...  \n",
       "5  D:\\arcgis\\ba_data\\can_2019\\Data\\Demographic Da...  \n",
       "6  D:\\arcgis\\ba_data\\can_2019\\Data\\Demographic Da...  \n",
       "7  D:\\arcgis\\ba_data\\can_2019\\Data\\Demographic Da...  \n",
       "8  D:\\arcgis\\ba_data\\can_2019\\Data\\Demographic Da...  "
      ]
     },
     "execution_count": 5,
     "metadata": {},
     "output_type": "execute_result"
    }
   ],
   "source": [
    "can.geographies"
   ]
  },
  {
   "cell_type": "code",
   "execution_count": 6,
   "metadata": {},
   "outputs": [
    {
     "data": {
      "text/html": [
       "<div>\n",
       "<style scoped>\n",
       "    .dataframe tbody tr th:only-of-type {\n",
       "        vertical-align: middle;\n",
       "    }\n",
       "\n",
       "    .dataframe tbody tr th {\n",
       "        vertical-align: top;\n",
       "    }\n",
       "\n",
       "    .dataframe thead th {\n",
       "        text-align: right;\n",
       "    }\n",
       "</style>\n",
       "<table border=\"1\" class=\"dataframe\">\n",
       "  <thead>\n",
       "    <tr style=\"text-align: right;\">\n",
       "      <th></th>\n",
       "      <th>ID</th>\n",
       "      <th>NAME</th>\n",
       "      <th>SHAPE</th>\n",
       "    </tr>\n",
       "  </thead>\n",
       "  <tbody>\n",
       "    <tr>\n",
       "      <th>0</th>\n",
       "      <td>933</td>\n",
       "      <td>Vancouver</td>\n",
       "      <td>{\"rings\": [[[-122.89240540549281, 49.087271790...</td>\n",
       "    </tr>\n",
       "  </tbody>\n",
       "</table>\n",
       "</div>"
      ],
      "text/plain": [
       "    ID       NAME                                              SHAPE\n",
       "0  933  Vancouver  {\"rings\": [[[-122.89240540549281, 49.087271790..."
      ]
     },
     "execution_count": 6,
     "metadata": {},
     "output_type": "execute_result"
    }
   ],
   "source": [
    "van_df = can.cmacas.get('vancouver')\n",
    "\n",
    "van_df"
   ]
  },
  {
   "cell_type": "code",
   "execution_count": 7,
   "metadata": {},
   "outputs": [
    {
     "data": {
      "application/vnd.jupyter.widget-view+json": {
       "model_id": "1b7af4580a92494cbfc4a3e62ae4b5a1",
       "version_major": 2,
       "version_minor": 0
      },
      "text/plain": [
       "MapView(layout=Layout(height='400px', width='100%'))"
      ]
     },
     "metadata": {},
     "output_type": "display_data"
    },
    {
     "data": {
      "text/html": [
       "<div class=\"map-static-img-preview-c2cedb03-33c8-4b7d-ac40-3556b7d79166\"><img src=\"\"></img></div>"
      ],
      "text/plain": [
       "<IPython.core.display.HTML object>"
      ]
     },
     "metadata": {},
     "output_type": "display_data"
    },
    {
     "data": {
      "text/html": [
       "<div class=\"map-html-embed-preview-c2cedb03-33c8-4b7d-ac40-3556b7d79166\"></div>"
      ],
      "text/plain": [
       "<IPython.core.display.HTML object>"
      ]
     },
     "metadata": {},
     "output_type": "display_data"
    }
   ],
   "source": [
    "van_df.spatial.plot()"
   ]
  },
  {
   "cell_type": "code",
   "execution_count": 8,
   "metadata": {},
   "outputs": [
    {
     "data": {
      "text/html": [
       "<div>\n",
       "<style scoped>\n",
       "    .dataframe tbody tr th:only-of-type {\n",
       "        vertical-align: middle;\n",
       "    }\n",
       "\n",
       "    .dataframe tbody tr th {\n",
       "        vertical-align: top;\n",
       "    }\n",
       "\n",
       "    .dataframe thead th {\n",
       "        text-align: right;\n",
       "    }\n",
       "</style>\n",
       "<table border=\"1\" class=\"dataframe\">\n",
       "  <thead>\n",
       "    <tr style=\"text-align: right;\">\n",
       "      <th></th>\n",
       "      <th>ID</th>\n",
       "      <th>NAME</th>\n",
       "      <th>SHAPE</th>\n",
       "    </tr>\n",
       "  </thead>\n",
       "  <tbody>\n",
       "    <tr>\n",
       "      <th>0</th>\n",
       "      <td>59150369</td>\n",
       "      <td>59150369</td>\n",
       "      <td>{\"rings\": [[[-123.0705300003746, 49.2525500003...</td>\n",
       "    </tr>\n",
       "    <tr>\n",
       "      <th>1</th>\n",
       "      <td>59150370</td>\n",
       "      <td>59150370</td>\n",
       "      <td>{\"rings\": [[[-123.07615000003094, 49.251719999...</td>\n",
       "    </tr>\n",
       "    <tr>\n",
       "      <th>2</th>\n",
       "      <td>59150373</td>\n",
       "      <td>59150373</td>\n",
       "      <td>{\"rings\": [[[-123.08187000014466, 49.250950000...</td>\n",
       "    </tr>\n",
       "    <tr>\n",
       "      <th>3</th>\n",
       "      <td>59150375</td>\n",
       "      <td>59150375</td>\n",
       "      <td>{\"rings\": [[[-123.08198000064783, 49.247739999...</td>\n",
       "    </tr>\n",
       "    <tr>\n",
       "      <th>4</th>\n",
       "      <td>59150376</td>\n",
       "      <td>59150376</td>\n",
       "      <td>{\"rings\": [[[-123.08268000025659, 49.246560000...</td>\n",
       "    </tr>\n",
       "  </tbody>\n",
       "</table>\n",
       "</div>"
      ],
      "text/plain": [
       "         ID      NAME                                              SHAPE\n",
       "0  59150369  59150369  {\"rings\": [[[-123.0705300003746, 49.2525500003...\n",
       "1  59150370  59150370  {\"rings\": [[[-123.07615000003094, 49.251719999...\n",
       "2  59150373  59150373  {\"rings\": [[[-123.08187000014466, 49.250950000...\n",
       "3  59150375  59150375  {\"rings\": [[[-123.08198000064783, 49.247739999...\n",
       "4  59150376  59150376  {\"rings\": [[[-123.08268000025659, 49.246560000..."
      ]
     },
     "execution_count": 8,
     "metadata": {},
     "output_type": "execute_result"
    }
   ],
   "source": [
    "lvl0_df = van_df.dm.level(0).get()\n",
    "\n",
    "lvl0_df.head()"
   ]
  },
  {
   "cell_type": "code",
   "execution_count": 9,
   "metadata": {},
   "outputs": [
    {
     "data": {
      "application/vnd.jupyter.widget-view+json": {
       "model_id": "be7a2f71d7bc4700876862d6e4ab8a20",
       "version_major": 2,
       "version_minor": 0
      },
      "text/plain": [
       "MapView(layout=Layout(height='400px', width='100%'))"
      ]
     },
     "metadata": {},
     "output_type": "display_data"
    },
    {
     "data": {
      "text/html": [
       "<div class=\"map-static-img-preview-3f365cdf-db17-49fa-883b-a3e9def227ac\"><img src=\"\"></img></div>"
      ],
      "text/plain": [
       "<IPython.core.display.HTML object>"
      ]
     },
     "metadata": {},
     "output_type": "display_data"
    },
    {
     "data": {
      "text/html": [
       "<div class=\"map-html-embed-preview-3f365cdf-db17-49fa-883b-a3e9def227ac\"></div>"
      ],
      "text/plain": [
       "<IPython.core.display.HTML object>"
      ]
     },
     "metadata": {},
     "output_type": "display_data"
    }
   ],
   "source": [
    "lvl0_df.spatial.plot()"
   ]
  },
  {
   "cell_type": "code",
   "execution_count": 10,
   "metadata": {},
   "outputs": [
    {
     "data": {
      "text/html": [
       "<div>\n",
       "<style scoped>\n",
       "    .dataframe tbody tr th:only-of-type {\n",
       "        vertical-align: middle;\n",
       "    }\n",
       "\n",
       "    .dataframe tbody tr th {\n",
       "        vertical-align: top;\n",
       "    }\n",
       "\n",
       "    .dataframe thead th {\n",
       "        text-align: right;\n",
       "    }\n",
       "</style>\n",
       "<table border=\"1\" class=\"dataframe\">\n",
       "  <thead>\n",
       "    <tr style=\"text-align: right;\">\n",
       "      <th></th>\n",
       "      <th>name</th>\n",
       "      <th>alias</th>\n",
       "      <th>type</th>\n",
       "      <th>vintage</th>\n",
       "      <th>data_collection</th>\n",
       "      <th>enrich_str</th>\n",
       "      <th>enrich_field_name</th>\n",
       "    </tr>\n",
       "  </thead>\n",
       "  <tbody>\n",
       "    <tr>\n",
       "      <th>0</th>\n",
       "      <td>P3YPTAPOP</td>\n",
       "      <td>2022 Total Population</td>\n",
       "      <td>COUNT</td>\n",
       "      <td>2022</td>\n",
       "      <td>KeyCanFacts</td>\n",
       "      <td>KeyCanFacts.P3YPTAPOP</td>\n",
       "      <td>KeyCanFacts_P3YPTAPOP</td>\n",
       "    </tr>\n",
       "    <tr>\n",
       "      <th>1</th>\n",
       "      <td>P3YHFSCF</td>\n",
       "      <td>2022 Tot Census Fam HHs</td>\n",
       "      <td>COUNT</td>\n",
       "      <td>2022</td>\n",
       "      <td>KeyCanFacts</td>\n",
       "      <td>KeyCanFacts.P3YHFSCF</td>\n",
       "      <td>KeyCanFacts_P3YHFSCF</td>\n",
       "    </tr>\n",
       "    <tr>\n",
       "      <th>2</th>\n",
       "      <td>P3YHSZAVG</td>\n",
       "      <td>2022 Private HHs Avg Num Persons</td>\n",
       "      <td>COUNT</td>\n",
       "      <td>2022</td>\n",
       "      <td>KeyCanFacts</td>\n",
       "      <td>KeyCanFacts.P3YHSZAVG</td>\n",
       "      <td>KeyCanFacts_P3YHSZAVG</td>\n",
       "    </tr>\n",
       "    <tr>\n",
       "      <th>3</th>\n",
       "      <td>P3YHNIAVG</td>\n",
       "      <td>2022 HH Inc Average Curr$</td>\n",
       "      <td>CURRENCY</td>\n",
       "      <td>2022</td>\n",
       "      <td>KeyCanFacts</td>\n",
       "      <td>KeyCanFacts.P3YHNIAVG</td>\n",
       "      <td>KeyCanFacts_P3YHNIAVG</td>\n",
       "    </tr>\n",
       "    <tr>\n",
       "      <th>4</th>\n",
       "      <td>P3YHNIMED</td>\n",
       "      <td>2022 HH Inc Median Curr$</td>\n",
       "      <td>CURRENCY</td>\n",
       "      <td>2022</td>\n",
       "      <td>KeyCanFacts</td>\n",
       "      <td>KeyCanFacts.P3YHNIMED</td>\n",
       "      <td>KeyCanFacts_P3YHNIMED</td>\n",
       "    </tr>\n",
       "    <tr>\n",
       "      <th>5</th>\n",
       "      <td>P3YTENHHD</td>\n",
       "      <td>2022 Tenure - Total HHs</td>\n",
       "      <td>COUNT</td>\n",
       "      <td>2022</td>\n",
       "      <td>KeyCanFacts</td>\n",
       "      <td>KeyCanFacts.P3YTENHHD</td>\n",
       "      <td>KeyCanFacts_P3YTENHHD</td>\n",
       "    </tr>\n",
       "    <tr>\n",
       "      <th>6</th>\n",
       "      <td>P3YTENOWN</td>\n",
       "      <td>2022 Tenure - Owned</td>\n",
       "      <td>COUNT</td>\n",
       "      <td>2022</td>\n",
       "      <td>KeyCanFacts</td>\n",
       "      <td>KeyCanFacts.P3YTENOWN</td>\n",
       "      <td>KeyCanFacts_P3YTENOWN</td>\n",
       "    </tr>\n",
       "    <tr>\n",
       "      <th>7</th>\n",
       "      <td>P3YTENRENT</td>\n",
       "      <td>2022 Tenure - Rented</td>\n",
       "      <td>COUNT</td>\n",
       "      <td>2022</td>\n",
       "      <td>KeyCanFacts</td>\n",
       "      <td>KeyCanFacts.P3YTENRENT</td>\n",
       "      <td>KeyCanFacts_P3YTENRENT</td>\n",
       "    </tr>\n",
       "    <tr>\n",
       "      <th>8</th>\n",
       "      <td>P3YTENBAND</td>\n",
       "      <td>2022 Tenure - Band Housing</td>\n",
       "      <td>COUNT</td>\n",
       "      <td>2022</td>\n",
       "      <td>KeyCanFacts</td>\n",
       "      <td>KeyCanFacts.P3YTENBAND</td>\n",
       "      <td>KeyCanFacts_P3YTENBAND</td>\n",
       "    </tr>\n",
       "  </tbody>\n",
       "</table>\n",
       "</div>"
      ],
      "text/plain": [
       "         name                             alias      type vintage  \\\n",
       "0   P3YPTAPOP             2022 Total Population     COUNT    2022   \n",
       "1    P3YHFSCF           2022 Tot Census Fam HHs     COUNT    2022   \n",
       "2   P3YHSZAVG  2022 Private HHs Avg Num Persons     COUNT    2022   \n",
       "3   P3YHNIAVG         2022 HH Inc Average Curr$  CURRENCY    2022   \n",
       "4   P3YHNIMED          2022 HH Inc Median Curr$  CURRENCY    2022   \n",
       "5   P3YTENHHD           2022 Tenure - Total HHs     COUNT    2022   \n",
       "6   P3YTENOWN               2022 Tenure - Owned     COUNT    2022   \n",
       "7  P3YTENRENT              2022 Tenure - Rented     COUNT    2022   \n",
       "8  P3YTENBAND        2022 Tenure - Band Housing     COUNT    2022   \n",
       "\n",
       "  data_collection              enrich_str       enrich_field_name  \n",
       "0     KeyCanFacts   KeyCanFacts.P3YPTAPOP   KeyCanFacts_P3YPTAPOP  \n",
       "1     KeyCanFacts    KeyCanFacts.P3YHFSCF    KeyCanFacts_P3YHFSCF  \n",
       "2     KeyCanFacts   KeyCanFacts.P3YHSZAVG   KeyCanFacts_P3YHSZAVG  \n",
       "3     KeyCanFacts   KeyCanFacts.P3YHNIAVG   KeyCanFacts_P3YHNIAVG  \n",
       "4     KeyCanFacts   KeyCanFacts.P3YHNIMED   KeyCanFacts_P3YHNIMED  \n",
       "5     KeyCanFacts   KeyCanFacts.P3YTENHHD   KeyCanFacts_P3YTENHHD  \n",
       "6     KeyCanFacts   KeyCanFacts.P3YTENOWN   KeyCanFacts_P3YTENOWN  \n",
       "7     KeyCanFacts  KeyCanFacts.P3YTENRENT  KeyCanFacts_P3YTENRENT  \n",
       "8     KeyCanFacts  KeyCanFacts.P3YTENBAND  KeyCanFacts_P3YTENBAND  "
      ]
     },
     "execution_count": 10,
     "metadata": {},
     "output_type": "execute_result"
    }
   ],
   "source": [
    "evars = can.enrich_variables\n",
    "\n",
    "keyvars = evars[(evars.data_collection.str.startswith('Key')) & (evars.vintage == '2022')].copy().reset_index(drop=True)\n",
    "\n",
    "keyvars"
   ]
  },
  {
   "cell_type": "code",
   "execution_count": 11,
   "metadata": {},
   "outputs": [
    {
     "data": {
      "text/html": [
       "<div>\n",
       "<style scoped>\n",
       "    .dataframe tbody tr th:only-of-type {\n",
       "        vertical-align: middle;\n",
       "    }\n",
       "\n",
       "    .dataframe tbody tr th {\n",
       "        vertical-align: top;\n",
       "    }\n",
       "\n",
       "    .dataframe thead th {\n",
       "        text-align: right;\n",
       "    }\n",
       "</style>\n",
       "<table border=\"1\" class=\"dataframe\">\n",
       "  <thead>\n",
       "    <tr style=\"text-align: right;\">\n",
       "      <th></th>\n",
       "      <th>ID</th>\n",
       "      <th>NAME</th>\n",
       "      <th>KeyCanFacts_P3YPTAPOP</th>\n",
       "      <th>KeyCanFacts_P3YHFSCF</th>\n",
       "      <th>KeyCanFacts_P3YHSZAVG</th>\n",
       "      <th>KeyCanFacts_P3YHNIAVG</th>\n",
       "      <th>KeyCanFacts_P3YHNIMED</th>\n",
       "      <th>KeyCanFacts_P3YTENHHD</th>\n",
       "      <th>KeyCanFacts_P3YTENOWN</th>\n",
       "      <th>KeyCanFacts_P3YTENRENT</th>\n",
       "      <th>KeyCanFacts_P3YTENBAND</th>\n",
       "      <th>SHAPE</th>\n",
       "    </tr>\n",
       "  </thead>\n",
       "  <tbody>\n",
       "    <tr>\n",
       "      <th>0</th>\n",
       "      <td>59150369</td>\n",
       "      <td>59150369</td>\n",
       "      <td>596.0</td>\n",
       "      <td>148.0</td>\n",
       "      <td>2.6</td>\n",
       "      <td>90408.28</td>\n",
       "      <td>71666.67</td>\n",
       "      <td>225.0</td>\n",
       "      <td>116.0</td>\n",
       "      <td>109.0</td>\n",
       "      <td>0.0</td>\n",
       "      <td>{\"rings\": [[[-123.0705300003746, 49.2525500003...</td>\n",
       "    </tr>\n",
       "    <tr>\n",
       "      <th>1</th>\n",
       "      <td>59150370</td>\n",
       "      <td>59150370</td>\n",
       "      <td>1498.0</td>\n",
       "      <td>393.0</td>\n",
       "      <td>2.1</td>\n",
       "      <td>93374.01</td>\n",
       "      <td>82450.98</td>\n",
       "      <td>705.0</td>\n",
       "      <td>357.0</td>\n",
       "      <td>348.0</td>\n",
       "      <td>0.0</td>\n",
       "      <td>{\"rings\": [[[-123.07615000003094, 49.251719999...</td>\n",
       "    </tr>\n",
       "    <tr>\n",
       "      <th>2</th>\n",
       "      <td>59150373</td>\n",
       "      <td>59150373</td>\n",
       "      <td>767.0</td>\n",
       "      <td>201.0</td>\n",
       "      <td>3.0</td>\n",
       "      <td>148982.53</td>\n",
       "      <td>117672.41</td>\n",
       "      <td>253.0</td>\n",
       "      <td>199.0</td>\n",
       "      <td>54.0</td>\n",
       "      <td>0.0</td>\n",
       "      <td>{\"rings\": [[[-123.08187000014466, 49.250950000...</td>\n",
       "    </tr>\n",
       "    <tr>\n",
       "      <th>3</th>\n",
       "      <td>59150375</td>\n",
       "      <td>59150375</td>\n",
       "      <td>507.0</td>\n",
       "      <td>130.0</td>\n",
       "      <td>3.0</td>\n",
       "      <td>141579.89</td>\n",
       "      <td>102343.75</td>\n",
       "      <td>167.0</td>\n",
       "      <td>115.0</td>\n",
       "      <td>52.0</td>\n",
       "      <td>0.0</td>\n",
       "      <td>{\"rings\": [[[-123.08198000064783, 49.247739999...</td>\n",
       "    </tr>\n",
       "    <tr>\n",
       "      <th>4</th>\n",
       "      <td>59150376</td>\n",
       "      <td>59150376</td>\n",
       "      <td>497.0</td>\n",
       "      <td>128.0</td>\n",
       "      <td>2.9</td>\n",
       "      <td>130564.61</td>\n",
       "      <td>101973.68</td>\n",
       "      <td>173.0</td>\n",
       "      <td>100.0</td>\n",
       "      <td>73.0</td>\n",
       "      <td>0.0</td>\n",
       "      <td>{\"rings\": [[[-123.08268000025659, 49.246560000...</td>\n",
       "    </tr>\n",
       "  </tbody>\n",
       "</table>\n",
       "</div>"
      ],
      "text/plain": [
       "         ID      NAME  KeyCanFacts_P3YPTAPOP  KeyCanFacts_P3YHFSCF  \\\n",
       "0  59150369  59150369                  596.0                 148.0   \n",
       "1  59150370  59150370                 1498.0                 393.0   \n",
       "2  59150373  59150373                  767.0                 201.0   \n",
       "3  59150375  59150375                  507.0                 130.0   \n",
       "4  59150376  59150376                  497.0                 128.0   \n",
       "\n",
       "   KeyCanFacts_P3YHSZAVG  KeyCanFacts_P3YHNIAVG  KeyCanFacts_P3YHNIMED  \\\n",
       "0                    2.6               90408.28               71666.67   \n",
       "1                    2.1               93374.01               82450.98   \n",
       "2                    3.0              148982.53              117672.41   \n",
       "3                    3.0              141579.89              102343.75   \n",
       "4                    2.9              130564.61              101973.68   \n",
       "\n",
       "   KeyCanFacts_P3YTENHHD  KeyCanFacts_P3YTENOWN  KeyCanFacts_P3YTENRENT  \\\n",
       "0                  225.0                  116.0                   109.0   \n",
       "1                  705.0                  357.0                   348.0   \n",
       "2                  253.0                  199.0                    54.0   \n",
       "3                  167.0                  115.0                    52.0   \n",
       "4                  173.0                  100.0                    73.0   \n",
       "\n",
       "   KeyCanFacts_P3YTENBAND                                              SHAPE  \n",
       "0                     0.0  {\"rings\": [[[-123.0705300003746, 49.2525500003...  \n",
       "1                     0.0  {\"rings\": [[[-123.07615000003094, 49.251719999...  \n",
       "2                     0.0  {\"rings\": [[[-123.08187000014466, 49.250950000...  \n",
       "3                     0.0  {\"rings\": [[[-123.08198000064783, 49.247739999...  \n",
       "4                     0.0  {\"rings\": [[[-123.08268000025659, 49.246560000...  "
      ]
     },
     "execution_count": 11,
     "metadata": {},
     "output_type": "execute_result"
    }
   ],
   "source": [
    "enrich_df = lvl0_df.dm.enrich(keyvars)\n",
    "\n",
    "enrich_df.head()"
   ]
  },
  {
   "cell_type": "code",
   "execution_count": 12,
   "metadata": {},
   "outputs": [
    {
     "data": {
      "text/plain": [
       "'D:\\\\projects\\\\canada-modeling\\\\data\\\\interim\\\\interim.gdb\\\\van_lvl0_keyvars'"
      ]
     },
     "execution_count": 12,
     "metadata": {},
     "output_type": "execute_result"
    }
   ],
   "source": [
    "enrich_fc = enrich_df.spatial.to_featureclass(gdb_int/'van_lvl0_keyvars')\n",
    "\n",
    "enrich_fc"
   ]
  },
  {
   "cell_type": "code",
   "execution_count": 13,
   "metadata": {},
   "outputs": [
    {
     "data": {
      "text/plain": [
       "'D:\\\\projects\\\\canada-modeling\\\\data\\\\interim\\\\interim.gdb\\\\van_lvl0_keyvars'"
      ]
     },
     "execution_count": 13,
     "metadata": {},
     "output_type": "execute_result"
    }
   ],
   "source": [
    "add_enrich_aliases(enrich_fc, can)"
   ]
  },
  {
   "cell_type": "code",
   "execution_count": null,
   "metadata": {},
   "outputs": [],
   "source": []
  }
 ],
 "metadata": {
  "kernelspec": {
   "display_name": "Python 3",
   "language": "python",
   "name": "python3"
  },
  "language_info": {
   "codemirror_mode": {
    "name": "ipython",
    "version": 3
   },
   "file_extension": ".py",
   "mimetype": "text/x-python",
   "name": "python",
   "nbconvert_exporter": "python",
   "pygments_lexer": "ipython3",
   "version": "3.7.9"
  }
 },
 "nbformat": 4,
 "nbformat_minor": 4
}
